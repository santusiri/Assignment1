{
 "cells": [
  {
   "cell_type": "code",
   "execution_count": 11,
   "id": "840e9500",
   "metadata": {},
   "outputs": [
    {
     "ename": "SyntaxError",
     "evalue": "invalid syntax (<ipython-input-11-b59fe94bfa97>, line 5)",
     "output_type": "error",
     "traceback": [
      "\u001b[1;36m  File \u001b[1;32m\"<ipython-input-11-b59fe94bfa97>\"\u001b[1;36m, line \u001b[1;32m5\u001b[0m\n\u001b[1;33m    Values: 'hello',-87.8,6.\u001b[0m\n\u001b[1;37m                   ^\u001b[0m\n\u001b[1;31mSyntaxError\u001b[0m\u001b[1;31m:\u001b[0m invalid syntax\n"
     ]
    }
   ],
   "source": [
    "#1. In the below elements which of them are values or an expression? \n",
    "#eg:- values can be integer or string and expressions will be mathematical operators.\n",
    "# * ,'hello',-87.8,-,/,+\t,6 \n",
    "\n",
    "Values: 'hello',-87.8,6.\n",
    "expressions:  *,-,/,+\t  \n"
   ]
  },
  {
   "cell_type": "code",
   "execution_count": 2,
   "id": "f70eaf08",
   "metadata": {},
   "outputs": [
    {
     "name": "stdout",
     "output_type": "stream",
     "text": [
      "Object `variable` not found.\n"
     ]
    }
   ],
   "source": [
    "#. What is the difference between string and variable?\n",
    "variable is a name that can refer to any value and string is text that we write in \"\",''\n",
    "and string is stored as a variable .variable is a store of information.\n",
    "\n"
   ]
  },
  {
   "cell_type": "code",
   "execution_count": null,
   "id": "c93998ce",
   "metadata": {},
   "outputs": [],
   "source": [
    "#3. Describe three different data types.\n",
    "Integer\n",
    "boolean\n",
    "string"
   ]
  },
  {
   "cell_type": "code",
   "execution_count": 3,
   "id": "723be5f9",
   "metadata": {},
   "outputs": [
    {
     "name": "stdout",
     "output_type": "stream",
     "text": [
      "Object `do` not found.\n"
     ]
    }
   ],
   "source": [
    "#4. What is an expression made up of? What do all expressions do?\n",
    "\n",
    "An expression is made up of varieables it can retrun other types of values such as boolean oe string.\n",
    "Expression are representation of values every string is also an expression."
   ]
  },
  {
   "cell_type": "code",
   "execution_count": 13,
   "id": "51295423",
   "metadata": {},
   "outputs": [],
   "source": [
    "#5. This assignment statements, like spam = 10. What is the difference between an expression and a statement?\n",
    "spam =10 expresstion evalutes an value where as statement represent action eg: print statement.\n"
   ]
  },
  {
   "cell_type": "code",
   "execution_count": 4,
   "id": "325e8683",
   "metadata": {},
   "outputs": [
    {
     "name": "stdout",
     "output_type": "stream",
     "text": [
      "Object `contain` not found.\n"
     ]
    },
    {
     "data": {
      "text/plain": [
       "23"
      ]
     },
     "execution_count": 4,
     "metadata": {},
     "output_type": "execute_result"
    }
   ],
   "source": [
    "#6. After running the following code, what does the variable bacon contain?\n",
    "bacon = 22\n",
    "bacon + 1\n",
    "\n",
    "# Bacon =23\n"
   ]
  },
  {
   "cell_type": "code",
   "execution_count": 7,
   "id": "024eb951",
   "metadata": {},
   "outputs": [
    {
     "data": {
      "text/plain": [
       "'spamspamspam'"
      ]
     },
     "execution_count": 7,
     "metadata": {},
     "output_type": "execute_result"
    }
   ],
   "source": [
    "#7. What should the values of the following two terms be?\n",
    "'spam' + 'spamspam'\n",
    "'spam' * 3\n",
    "\n",
    "#'spamspamspam'"
   ]
  },
  {
   "cell_type": "code",
   "execution_count": 21,
   "id": "a67b61e1",
   "metadata": {},
   "outputs": [
    {
     "ename": "SyntaxError",
     "evalue": "invalid syntax (<ipython-input-21-8eb990dddca9>, line 3)",
     "output_type": "error",
     "traceback": [
      "\u001b[1;36m  File \u001b[1;32m\"<ipython-input-21-8eb990dddca9>\"\u001b[1;36m, line \u001b[1;32m3\u001b[0m\n\u001b[1;33m    variable cant not begin with number so eagg is valid and 100 is invalid as variable.\u001b[0m\n\u001b[1;37m             ^\u001b[0m\n\u001b[1;31mSyntaxError\u001b[0m\u001b[1;31m:\u001b[0m invalid syntax\n"
     ]
    }
   ],
   "source": [
    "\n",
    "# 8. Why is eggs a valid variable name while 100 is invalid\n",
    "\n",
    "variable cant not begin with number so eagg is valid and 100 is invalid as variable.\n",
    "\n"
   ]
  },
  {
   "cell_type": "code",
   "execution_count": null,
   "id": "bb6e9d6f",
   "metadata": {},
   "outputs": [],
   "source": [
    "# 9. What three functions can be used to get the integer, floating-point number, or string version of a value?"
   ]
  },
  {
   "cell_type": "code",
   "execution_count": 20,
   "id": "53d63ece",
   "metadata": {},
   "outputs": [
    {
     "data": {
      "text/plain": [
       "'I have eaten 99  burritos.'"
      ]
     },
     "execution_count": 20,
     "metadata": {},
     "output_type": "execute_result"
    }
   ],
   "source": [
    "# 10. Why does this expression cause an error? How can you fix it?\n",
    "#'I have eaten ' + 99 + ' burritos.'\n",
    "#below  is the reson it was not executing.\n",
    "#error: TypeError: can only concatenate str (not \"int\") to str\n",
    "\n",
    "'I have eaten ''99 '' burritos.'"
   ]
  },
  {
   "cell_type": "code",
   "execution_count": null,
   "id": "262046bd",
   "metadata": {},
   "outputs": [],
   "source": []
  }
 ],
 "metadata": {
  "kernelspec": {
   "display_name": "Python 3",
   "language": "python",
   "name": "python3"
  },
  "language_info": {
   "codemirror_mode": {
    "name": "ipython",
    "version": 3
   },
   "file_extension": ".py",
   "mimetype": "text/x-python",
   "name": "python",
   "nbconvert_exporter": "python",
   "pygments_lexer": "ipython3",
   "version": "3.8.8"
  }
 },
 "nbformat": 4,
 "nbformat_minor": 5
}
